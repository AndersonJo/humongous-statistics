{
 "cells": [
  {
   "cell_type": "markdown",
   "metadata": {},
   "source": [
    "# Norm Functions\n",
    "\n",
    "수학적으로 Norm은 vector의 length를 구하는데 사용되는데 사용되는 함수 입니다.<br>\n",
    "공식적인 Norm의 공식은 다음과 같습니다. \n",
    "\n",
    "$$ \\| x \\|_p = \\left[ \\sum_i{ |x_i|^p } \\right]^{\\frac{1}{p}} $$\n",
    "\n",
    "* [l0-Norm, l1-Norm, l2-Norm, … , l-infinity Norm](https://rorasa.wordpress.com/2012/05/13/l0-norm-l1-norm-l2-norm-l-infinity-norm/) 문서를 참고"
   ]
  },
  {
   "cell_type": "code",
   "execution_count": 1,
   "metadata": {
    "collapsed": true
   },
   "outputs": [],
   "source": [
    "import numpy as np"
   ]
  },
  {
   "cell_type": "markdown",
   "metadata": {},
   "source": [
    "### Data"
   ]
  },
  {
   "cell_type": "code",
   "execution_count": 2,
   "metadata": {
    "collapsed": true
   },
   "outputs": [],
   "source": [
    "A = np.array([0, 0, -3.5, 10, 0.002])\n",
    "B = np.array([1, 0, 13, 0.9, 2.1])\n",
    "C = np.array([[0, 1, 2], [3, 4, 5], [7, 8, 9]])"
   ]
  },
  {
   "cell_type": "markdown",
   "metadata": {},
   "source": [
    "### $ L^2 $ Euclidean Norm\n",
    "\n",
    "Euclidean Norm은 그냥.. Euclidean distance를 가르킵니다. <br>\n",
    "즉 origin point에서 얼마나 많이 떨어져 있는지를 가르킵니다.\n",
    "\n",
    "$$ \\| x \\|_2 = \\sqrt{ \\sum_i{ x^2_i } } $$"
   ]
  },
  {
   "cell_type": "code",
   "execution_count": 4,
   "metadata": {
    "collapsed": false
   },
   "outputs": [
    {
     "name": "stdout",
     "output_type": "stream",
     "text": [
      "euclidean distance: 10.594810239\n"
     ]
    }
   ],
   "source": [
    "def euclidean_distance(A):\n",
    "    return np.sqrt(np.sum(A**2))\n",
    "\n",
    "\n",
    "print('euclidean distance:', euclidean_distance(A))"
   ]
  },
  {
   "cell_type": "markdown",
   "metadata": {},
   "source": [
    "### $ L^1 $ Manhattan Norm\n",
    "\n",
    "$ L^1 $norm 의 정의는 다음과 같습니다.\n",
    "\n",
    "$$ \\| x \\|_1 = \\sum_i |x_i| $$\n",
    "\n",
    "$ L^1 $ norm은 일반적인 norm의 형태이기 때문에 많은 형태를 갖고 있습니다. <br>\n",
    "Sum of Absolute Difference(SAD)는 **Manhattan Norm**으로 알려져 있고..  \n",
    "두개의 vectors 또는 matrices사이의 차이를 구하는데 사용됩니다.\n",
    "\n",
    "$$ SAD(x_1, x_2) = \\| x_1 - x_2 \\| = \\sum | x_{1_i} - x_{2_i} | $$"
   ]
  },
  {
   "cell_type": "code",
   "execution_count": 5,
   "metadata": {
    "collapsed": false
   },
   "outputs": [
    {
     "name": "stdout",
     "output_type": "stream",
     "text": [
      "l1:        13.502\n",
      "Manhattan: 28.698\n"
     ]
    }
   ],
   "source": [
    "def l_zero(A):\n",
    "    return np.sum(np.abs(A))\n",
    "\n",
    "def manhattan(A, B):\n",
    "    return np.sum(np.abs(A - B))\n",
    "\n",
    "print('l1:       ', l_zero(A))\n",
    "print('Manhattan:', manhattan(A, B))"
   ]
  },
  {
   "cell_type": "markdown",
   "metadata": {},
   "source": [
    "### $ L^\\infty $ Max Norm\n",
    "\n",
    "x의 절대값에서 가장 큰 magnitude를 찾아냅니다.\n",
    "\n",
    "$$ \\| x \\| = max| x_i| $$"
   ]
  },
  {
   "cell_type": "code",
   "execution_count": 6,
   "metadata": {
    "collapsed": false
   },
   "outputs": [
    {
     "name": "stdout",
     "output_type": "stream",
     "text": [
      "Max Norm: 10.0\n"
     ]
    }
   ],
   "source": [
    "def max_norm(A):\n",
    "    return np.max(A)\n",
    "\n",
    "print('Max Norm:', max_norm(A))"
   ]
  },
  {
   "cell_type": "markdown",
   "metadata": {},
   "source": [
    "### Frobenius Norm\n",
    "\n",
    "$ L^2 $ 의 이름과 동일하게 Euclidean norm이라고 불리기도 하며, m * n matrix에 사용됩니다.\n",
    "\n",
    "$$ \\| \\textit{A} \\| = \\sqrt{ \\sum^m_{i=1} \\sum^n_{j=1} | a_{ij} |^2 } $$"
   ]
  },
  {
   "cell_type": "code",
   "execution_count": 17,
   "metadata": {
    "collapsed": false
   },
   "outputs": [
    {
     "name": "stdout",
     "output_type": "stream",
     "text": [
      "Frobenius\n",
      "15.7797338381\n"
     ]
    }
   ],
   "source": [
    "def frobenius(A):\n",
    "    return np.sqrt(np.sum(A**2))\n",
    "\n",
    "print('Frobenius')\n",
    "print(frobenius(C))"
   ]
  },
  {
   "cell_type": "markdown",
   "metadata": {},
   "source": [
    "**Numpy로 Frobenius norm을 계산**"
   ]
  },
  {
   "cell_type": "code",
   "execution_count": 22,
   "metadata": {
    "collapsed": false
   },
   "outputs": [
    {
     "data": {
      "text/plain": [
       "15.779733838059499"
      ]
     },
     "execution_count": 22,
     "metadata": {},
     "output_type": "execute_result"
    }
   ],
   "source": [
    "np.linalg.norm(C, ord='fro')"
   ]
  }
 ],
 "metadata": {
  "kernelspec": {
   "display_name": "Python 3",
   "language": "python",
   "name": "python3"
  },
  "language_info": {
   "codemirror_mode": {
    "name": "ipython",
    "version": 3
   },
   "file_extension": ".py",
   "mimetype": "text/x-python",
   "name": "python",
   "nbconvert_exporter": "python",
   "pygments_lexer": "ipython3",
   "version": "3.6.0"
  }
 },
 "nbformat": 4,
 "nbformat_minor": 1
}
