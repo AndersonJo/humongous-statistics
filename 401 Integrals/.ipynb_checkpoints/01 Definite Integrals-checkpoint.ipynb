{
 "cells": [
  {
   "cell_type": "markdown",
   "metadata": {
    "deletable": true,
    "editable": true
   },
   "source": [
    "# Definite Integrals\n",
    "\n",
    "* http://calculus.nipissingu.ca/tutorials/integrals.html\n",
    "* http://www.mathsisfun.com/calculus/integration-rules.html"
   ]
  },
  {
   "cell_type": "markdown",
   "metadata": {
    "deletable": true,
    "editable": true
   },
   "source": [
    "$ f(x) $를 interval [a, b] 사이의 continuous function으로 두었을때, 해당 함수가 그리는 curve의 면적을 구합니다. <br>\n",
    "이때 x-axis(x축)을 중심으로 +이면 positive value이고, 아래로 있으면 negative value로 둡니다. \n",
    "\n",
    "<img src=\"images/int_areagraph.gif\">\n",
    "\n",
    "The integral of the function $ f(x) $ from a to b는 다음과 같은 공식으로 쓸수 있습니다. \n",
    "\n",
    "$$ \\int_a^b f(x) dx $$\n",
    "\n",
    "여기서 $ f(x) $는 **integrand (피적분 함수)**라고 부르며, a는 **lower limit**, b는 **upper limit**으로 부릅니다.<br>\n",
    "이런 종류의 integral를 **definite integral**이라고 합니다."
   ]
  },
  {
   "cell_type": "markdown",
   "metadata": {},
   "source": [
    "### Integration Rules\n",
    "\n",
    "| Common Functions | Function | Integral |\n",
    "|:-----------------|:---------|:---------|\n",
    "| Constant         | $ \\int a\\ dx $ | $ ax+ C $ |"
   ]
  },
  {
   "cell_type": "markdown",
   "metadata": {
    "deletable": true,
    "editable": true
   },
   "source": [
    "### Properties of Definite Integrals \n",
    "\n",
    "1. $$ \\int^a_b f(x)\\ dx = - \\int^b_a f(x) dx $$\n",
    "2. $$ \\int^b_b f(x)\\ dx = 0 $$\n",
    "3. 1. $$ \\int^b_a c\\ dx = c(b-a) \\ \\text{where c is constant}  $$\n",
    "\n",
    ".. TODO"
   ]
  }
 ],
 "metadata": {
  "kernelspec": {
   "display_name": "Python 3",
   "language": "python",
   "name": "python3"
  },
  "language_info": {
   "codemirror_mode": {
    "name": "ipython",
    "version": 3
   },
   "file_extension": ".py",
   "mimetype": "text/x-python",
   "name": "python",
   "nbconvert_exporter": "python",
   "pygments_lexer": "ipython3",
   "version": "3.6.0"
  }
 },
 "nbformat": 4,
 "nbformat_minor": 2
}
