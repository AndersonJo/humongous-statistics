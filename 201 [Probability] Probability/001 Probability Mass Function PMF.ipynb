{
 "cells": [
  {
   "cell_type": "markdown",
   "metadata": {},
   "source": [
    "# Probability Mass Function (PMF)\n",
    "\n",
    "만약 $ X $ 라는 discrete random variable이 있다면, range $ R_X $는 countable set입니다.<br>\n",
    "즉 다음과 같이 나타낼수 있습니다. <br>\n",
    "\n",
    "\n",
    "$$ R_X=\\{x_1,x_2,x_3,...\\}. $$"
   ]
  }
 ],
 "metadata": {
  "kernelspec": {
   "display_name": "Python 2",
   "language": "python",
   "name": "python2"
  },
  "language_info": {
   "codemirror_mode": {
    "name": "ipython",
    "version": 2
   },
   "file_extension": ".py",
   "mimetype": "text/x-python",
   "name": "python",
   "nbconvert_exporter": "python",
   "pygments_lexer": "ipython2",
   "version": "2.7.12"
  }
 },
 "nbformat": 4,
 "nbformat_minor": 1
}
