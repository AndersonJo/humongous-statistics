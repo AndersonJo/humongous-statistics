{
 "cells": [
  {
   "cell_type": "markdown",
   "metadata": {},
   "source": [
    "# Gradient Function (Hamilton operator)\n",
    "\n",
    "수학에서 Gradient라는 의미는 여러가지가 있고, 단순하게는 Slope의 의미가 있지만, <br>\n",
    "보통 일반적으로는 vector operator로 사용되며, \"the\", \"del\", 또는 \"nabla\"라고 읽습니다.<br>\n",
    "그냥 derivative 의 fancy word입니다. 하지만 x값이 여러개인 multivariable function입니다. <br>\n",
    "\n",
    "$$ f(x_1, x_2, ..., x_N) = f(x) $$\n",
    "\n",
    "$$ \\nabla f(x) = grad(f) = \\frac{d}{dx}f(x) = [ \\frac{\\partial f(x)}{\\partial x_1}, ..., \\frac{\\partial f(x)}{\\partial x_N}]^{T} $$"
   ]
  },
  {
   "cell_type": "markdown",
   "metadata": {},
   "source": [
    "# Partial Derivative \n",
    "\n",
    "다음과 같은 $ f(x, y) = x^2y $ multivariable function은 다음과 같이 partial derivatives를 구할 수 있습니다.\n",
    "\n",
    "<img src=\"images/partial_derivative_001.png\" class=\"img-responsive img-rounded\">"
   ]
  }
 ],
 "metadata": {
  "kernelspec": {
   "display_name": "Python 2",
   "language": "python",
   "name": "python2"
  },
  "language_info": {
   "codemirror_mode": {
    "name": "ipython",
    "version": 2
   },
   "file_extension": ".py",
   "mimetype": "text/x-python",
   "name": "python",
   "nbconvert_exporter": "python",
   "pygments_lexer": "ipython2",
   "version": "2.7.12"
  }
 },
 "nbformat": 4,
 "nbformat_minor": 1
}
