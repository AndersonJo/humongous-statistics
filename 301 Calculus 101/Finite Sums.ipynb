{
 "cells": [
  {
   "cell_type": "markdown",
   "metadata": {},
   "source": [
    "# Sum Rule\n",
    "\n",
    "$$ \\frac{d}{dx}(u + v) = \\frac{du}{dx} + \\frac{dv}{dx} $$\n",
    "\n",
    "위의 룰은 2개 이상의 함수가 적용되는 subtractions, additions에도 적용됩니다.\n",
    "\n",
    "$$ \\frac{d}{dx} (u + v + w + ...) = \\frac{du}{dx} + \\frac{dv}{dx} + \\frac{dw}{dx} + ... $$"
   ]
  },
  {
   "cell_type": "markdown",
   "metadata": {},
   "source": [
    "# Finite Sums\n",
    "\n",
    "$$ \\frac{d}{dx} \\left( \\sum^n_{i=1} f_i(x) \\right) = \\frac{d}{dx} \\left( f_1(x) + f_2(x) + ... + f_n(x) \\right) $$\n",
    "\n",
    "따라서 \n",
    "\n",
    "$$ \\frac{d}{dx} \\left( \\sum^n_{i+1}  \\frac{d}{dx} f_i(x) \\right) = \\sum^n_{i=1} \\left( \\frac{d}{dx} f_i(x) \\right)  $$"
   ]
  },
  {
   "cell_type": "code",
   "execution_count": 4,
   "metadata": {
    "collapsed": true
   },
   "outputs": [],
   "source": [
    "from sympy import *\n",
    "x = symbols('x')"
   ]
  }
 ],
 "metadata": {
  "kernelspec": {
   "display_name": "Python 2",
   "language": "python",
   "name": "python2"
  },
  "language_info": {
   "codemirror_mode": {
    "name": "ipython",
    "version": 2
   },
   "file_extension": ".py",
   "mimetype": "text/x-python",
   "name": "python",
   "nbconvert_exporter": "python",
   "pygments_lexer": "ipython2",
   "version": "2.7.12"
  }
 },
 "nbformat": 4,
 "nbformat_minor": 1
}
