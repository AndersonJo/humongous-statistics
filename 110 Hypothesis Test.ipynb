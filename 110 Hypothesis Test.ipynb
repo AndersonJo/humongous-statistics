{
 "cells": [
  {
   "cell_type": "code",
   "execution_count": 3,
   "metadata": {},
   "outputs": [
    {
     "name": "stdout",
     "output_type": "stream",
     "text": [
      "Populating the interactive namespace from numpy and matplotlib\n"
     ]
    }
   ],
   "source": [
    "%pylab inline\n",
    "import numpy as np\n",
    "\n",
    "import scipy.stats as stats\n"
   ]
  },
  {
   "cell_type": "markdown",
   "metadata": {},
   "source": [
    "# Chi-Square Goodness-of-Fit Test"
   ]
  },
  {
   "cell_type": "markdown",
   "metadata": {},
   "source": [
    "# T-Test\n",
    "\n",
    "T-Test는 두 populations(모집단)의 variance(분산) 또는 standard deviation(표준편차)의 값을 모를때, <br>\n",
    "samples(표본)으로 부터 추정된 variance 또는 standard deviation을 가지고 두 populations의 평균차이를 구합니다. \n",
    "\n",
    "$$ t = \\frac{\\bar{x}_1 - \\bar{x}_2}{\\sqrt{ \\frac{S^2_1}{n_1} + \\frac{S^2_2}{n_2} }} $$ \n",
    "\n",
    "| Symbols | Description |\n",
    "|:--------|:------------|\n",
    "| $ \\bar{x}_1 $  | 샘플 A의 평균값  |\n",
    "| $ \\bar{x}_2 $  | 샘플 B의 평균값  |\n",
    "| $ S_1 $        | 샘플 A의 Standard Deviation |\n",
    "| $ S_2 $        | 샘플 B의 Standard Deviation |\n",
    "| $ n_1 $        | 샘플 A의 갯수 |\n",
    "| $ n_2 $        | 샘플 B의 갯수 |\n",
    "\n",
    "이때 Standard Deviation의 공식은 다음을 따릅니다.\n",
    "\n",
    "$$ S = \\sqrt{ \\frac{ \\sum \\left( x - \\bar{x} \\right)^2 }{n-1}} $$"
   ]
  },
  {
   "cell_type": "code",
   "execution_count": 34,
   "metadata": {},
   "outputs": [
    {
     "name": "stdout",
     "output_type": "stream",
     "text": [
      "1.09544511501 0.315333596201\n"
     ]
    }
   ],
   "source": [
    "def ttest(a, b):\n",
    "    a_mean = np.mean(a)\n",
    "    b_mean = np.mean(b)\n",
    "    a_std = np.std(a, ddof=1)\n",
    "    b_std = np.std(b, ddof=1)\n",
    "    a_size = len(a)\n",
    "    b_size = len(b)\n",
    "    return (a_mean - b_mean)/ np.sqrt(a_std**2/a_size + b_std**2/b_size)\n",
    "\n",
    "a = np.array([0.9, 1.0, 1.1, 1.2])\n",
    "b = np.array([0.8, 0.9, 1.0, 1.1])\n",
    "c = np.array([4.9, 5.0, 5.1, 5.2])\n",
    "\n",
    "t_value, p_value = stats.ttest_ind(a, b)\n",
    "print(t_value, p_value)"
   ]
  },
  {
   "cell_type": "code",
   "execution_count": 47,
   "metadata": {},
   "outputs": [
    {
     "data": {
      "text/plain": [
       "[<matplotlib.lines.Line2D at 0x7f61eef40780>]"
      ]
     },
     "execution_count": 47,
     "metadata": {},
     "output_type": "execute_result"
    },
    {
     "data": {
      "image/png": "[encoded data removed]",
      "text/plain": [
       "<matplotlib.figure.Figure at 0x7f61ecd009b0>"
      ]
     },
     "metadata": {},
     "output_type": "display_data"
    }
   ],
   "source": []
  }
 ],
 "metadata": {
  "kernelspec": {
   "display_name": "Python 3",
   "language": "python",
   "name": "python3"
  },
  "language_info": {
   "codemirror_mode": {
    "name": "ipython",
    "version": 3
   },
   "file_extension": ".py",
   "mimetype": "text/x-python",
   "name": "python",
   "nbconvert_exporter": "python",
   "pygments_lexer": "ipython3",
   "version": "3.6.1"
  }
 },
 "nbformat": 4,
 "nbformat_minor": 2
}
