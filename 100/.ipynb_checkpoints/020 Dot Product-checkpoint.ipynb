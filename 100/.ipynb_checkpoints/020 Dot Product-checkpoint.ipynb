{
 "cells": [
  {
   "cell_type": "code",
   "execution_count": 2,
   "metadata": {
    "collapsed": true,
    "deletable": true,
    "editable": true
   },
   "outputs": [],
   "source": [
    "import numpy as np"
   ]
  },
  {
   "cell_type": "markdown",
   "metadata": {
    "deletable": true,
    "editable": true
   },
   "source": [
    "# Dot Product \n",
    "\n",
    "$ \\textbf{a} $ 그리고 $ \\textbf{b} $를 dot product시키면 다음과 같습니다.\n",
    "\n",
    "$ \\begin{bmatrix} a_1 \\\\ a_2 \\\\ a_3 \\\\ ... \\\\ a_N \\end{bmatrix} \\cdot  \\begin{bmatrix} b_1 \\\\ b_2 \\\\ b_3 \\\\ ... \\\\ b_N \\end{bmatrix} = a_1 b_1 + a_2b_2 + a_3b_3 + ... + a_N b_N = scalar $\n",
    "\n",
    "예를들어서 다음 2개의 vectors를 dot product시키면 13이라는 결과가 나옵니다.\n",
    "\n",
    "$$ \\begin{bmatrix} 1 \\\\ 2 \\\\ 3  \\end{bmatrix} \\cdot \\begin{bmatrix} -2 \\\\ 0 \\\\ 5  \\end{bmatrix} = 1 \\cdot (-2) + 2 \\cdot 0 + 3 \\cdot 5 = -2 + 0 + 15 = 13 $$"
   ]
  },
  {
   "cell_type": "code",
   "execution_count": 4,
   "metadata": {
    "collapsed": false,
    "deletable": true,
    "editable": true
   },
   "outputs": [
    {
     "data": {
      "text/plain": [
       "13"
      ]
     },
     "execution_count": 4,
     "metadata": {},
     "output_type": "execute_result"
    }
   ],
   "source": [
    "a = np.array([1, 2, 3])\n",
    "b = np.array([-2, 0, 5])\n",
    "a.dot(b)"
   ]
  },
  {
   "cell_type": "markdown",
   "metadata": {
    "deletable": true,
    "editable": true
   },
   "source": [
    "# Magnitude와의 연관성\n",
    "\n",
    "* [Vector dot product and vector length](https://www.khanacademy.org/math/linear-algebra/vectors-and-spaces/dot-cross-products/v/vector-dot-product-and-vector-length) 동영상 참고\n",
    "\n",
    "\n",
    "Vector Length는 magnitude를 구하는 것과 같으며 다음과 같습니다.\n",
    "\n",
    "$$ \\| \\textbf{a} \\| = \\sqrt{ a^2_1 + a^2_2 + ... + a^2_N} $$\n",
    "\n",
    "**이때 vector a 자신을 자신과 곱하게 하면 위의 magnitude에서 sqrt안의 내용과 같게 됩니다.**\n",
    "\n",
    "$$ \\begin{align} \n",
    "\\| \\textbf{a} \\| &= \\sqrt{\\textbf{a} \\cdot \\textbf{a}}  \\\\\n",
    "\\| \\textbf{a} \\|^2 &= \\textbf{a} \\cdot \\textbf{a}  \n",
    "\\end{align} $$\n",
    "\n",
    "예를 들어서 다음 vector a의 길이는 다음과 같습니다. \n",
    "\n",
    "$$ \\begin{align} \n",
    "\\textbf{a} &=  \\begin{bmatrix} 1 \\\\ 2 \\\\ 3  \\end{bmatrix} \\end{align} \\\\\n",
    "\\| \\textbf{a} \\| = \\sqrt{1^2 + 2^2 + 3^2} = \\sqrt{1 + 4 + 9} = 3.7416573867739413\n",
    "$$"
   ]
  },
  {
   "cell_type": "code",
   "execution_count": 10,
   "metadata": {
    "collapsed": false,
    "deletable": true,
    "editable": true
   },
   "outputs": [
    {
     "name": "stdout",
     "output_type": "stream",
     "text": [
      "Magnitude1:\t 3.74165738677\n",
      "Magnitude2:\t 3.74165738677\n",
      "Numpy Norm:\t 3.74165738677\n"
     ]
    }
   ],
   "source": [
    "def magnitude1(vector):\n",
    "    return np.sqrt(np.sum(vector**2))\n",
    "\n",
    "def magnitude2(vector):\n",
    "    return np.sqrt(vector.dot(vector))\n",
    "\n",
    "print('Magnitude1:\\t', magnitude1(a))\n",
    "print('Magnitude2:\\t', magnitude2(a))\n",
    "print('Numpy Norm:\\t', np.linalg.norm(a))"
   ]
  }
 ],
 "metadata": {
  "kernelspec": {
   "display_name": "Python 3",
   "language": "python",
   "name": "python3"
  },
  "language_info": {
   "codemirror_mode": {
    "name": "ipython",
    "version": 3
   },
   "file_extension": ".py",
   "mimetype": "text/x-python",
   "name": "python",
   "nbconvert_exporter": "python",
   "pygments_lexer": "ipython3",
   "version": "3.6.0"
  }
 },
 "nbformat": 4,
 "nbformat_minor": 2
}
