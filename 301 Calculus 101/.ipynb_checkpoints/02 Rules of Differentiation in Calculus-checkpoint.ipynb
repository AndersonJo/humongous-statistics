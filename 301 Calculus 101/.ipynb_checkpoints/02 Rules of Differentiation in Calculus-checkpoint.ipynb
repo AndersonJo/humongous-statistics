{
 "cells": [
  {
   "cell_type": "code",
   "execution_count": 2,
   "metadata": {
    "collapsed": true,
    "deletable": true,
    "editable": true
   },
   "outputs": [],
   "source": [
    "from sympy import *\n",
    "from sympy.functions.elementary.trigonometric import *\n",
    "from scipy.misc import derivative\n",
    "init_printing(use_unicode=True)"
   ]
  },
  {
   "cell_type": "markdown",
   "metadata": {
    "deletable": true,
    "editable": true
   },
   "source": [
    "## Constant function\n",
    "\n",
    "$ f(x) = c $ 에서, c가 constant이라면.. $ f^{\\prime}(x) = 0 $ 이 됩니다.\n",
    "\n",
    "아래 Sympy에서는 $ \\frac{df}{dx}  = \\frac{d}{dx} c $ 를 구합니다. x가 variable로 들어가고 c가 constant이므로 0값이 나옵니다."
   ]
  },
  {
   "cell_type": "code",
   "execution_count": 2,
   "metadata": {
    "collapsed": false,
    "deletable": true,
    "editable": true
   },
   "outputs": [
    {
     "name": "stdout",
     "output_type": "stream",
     "text": [
      "0\n"
     ]
    }
   ],
   "source": [
    "x, c = symbols('x c')\n",
    "print diff(c, x)"
   ]
  },
  {
   "cell_type": "markdown",
   "metadata": {
    "deletable": true,
    "editable": true
   },
   "source": [
    "## Power rule\n",
    "\n",
    "the derivative of $ f(x) = x^r $은 다음과 같습니다. \n",
    "\n",
    "$$ f^{\\prime}(x) = r \\cdot x^{r-1} $$"
   ]
  },
  {
   "cell_type": "code",
   "execution_count": 3,
   "metadata": {
    "collapsed": false,
    "deletable": true,
    "editable": true
   },
   "outputs": [
    {
     "name": "stdout",
     "output_type": "stream",
     "text": [
      "3*x**2\n"
     ]
    }
   ],
   "source": [
    "x = symbols('x')\n",
    "print diff(x**3)"
   ]
  },
  {
   "cell_type": "markdown",
   "metadata": {
    "deletable": true,
    "editable": true
   },
   "source": [
    "## Sum Rule\n",
    "\n",
    "The derivative of $ f(x) = g(x) + h(x) $ 는 \n",
    "\n",
    "$$  f^{\\prime}(x) = g^{\\prime}(x) + h^{\\prime}(x) $$\n",
    "\n",
    "**Exmaples**\n",
    "\n",
    "$ f(x) = x^2 + 4 $\n",
    "\n",
    "$ f^{\\prime}(x) = 2x + 0 = 2x $\n"
   ]
  },
  {
   "cell_type": "code",
   "execution_count": 2,
   "metadata": {
    "collapsed": false,
    "deletable": true,
    "editable": true
   },
   "outputs": [
    {
     "data": {
      "image/png": "[encoded data removed]",
      "text/latex": [
       "$$2 x$$"
      ],
      "text/plain": [
       "2⋅x"
      ]
     },
     "execution_count": 2,
     "metadata": {},
     "output_type": "execute_result"
    }
   ],
   "source": [
    "x = symbols('x')\n",
    "diff(x**2 +  4, x)"
   ]
  },
  {
   "cell_type": "markdown",
   "metadata": {
    "deletable": true,
    "editable": true
   },
   "source": [
    "## Product of two functions\n",
    "\n",
    "The derivative of $ f(x) = g(x)h(x) $ 는 \n",
    "\n",
    "$$ f^{\\prime}(x) = g(x) h^{\\prime}(x) + h(x)g^{\\prime}(x) $$\n",
    "\n",
    "\n",
    "**Examples**\n",
    "\n",
    "The derivative of $ f(x) = (x^2 - 2x)(x-2) $ 는\n",
    "\n",
    "$ f^{\\prime}(x) = (x^2 - 2x)(1) + (x -2)(2x - 2) = x^2 - 2x + 2x^2 - 6x + 4 = 3x^2 - 8x + 4  $"
   ]
  },
  {
   "cell_type": "code",
   "execution_count": 5,
   "metadata": {
    "collapsed": false,
    "deletable": true,
    "editable": true
   },
   "outputs": [
    {
     "data": {
      "image/png": "[encoded data removed]",
      "text/latex": [
       "$$x^{2} - 2 x + \\left(x - 2\\right) \\left(2 x - 2\\right)$$"
      ],
      "text/plain": [
       " 2                          \n",
       "x  - 2⋅x + (x - 2)⋅(2⋅x - 2)"
      ]
     },
     "execution_count": 5,
     "metadata": {},
     "output_type": "execute_result"
    }
   ],
   "source": [
    "x = symbols('x')\n",
    "diff( (x**2 - 2*x)*(x - 2), x)"
   ]
  },
  {
   "cell_type": "markdown",
   "metadata": {},
   "source": [
    "## Derivative of $ e^x $\n",
    "\n",
    "$$ \\frac{d}{dx}(e^x) = e^x $$"
   ]
  },
  {
   "cell_type": "markdown",
   "metadata": {
    "deletable": true,
    "editable": true
   },
   "source": [
    "## Trigonometric\n",
    "\n",
    "**sin, cos** 등은 아래와 같이 무한 반복<br>\n",
    "$ sin \\rightarrow cos \\rightarrow -sin \\rightarrow -cos $\n",
    "\n",
    "\n",
    "**tan**<br>\n",
    "$ \\frac{d}{dx}tan(x) = tan(x)^2 + 1 = sec(x)^2  $\n",
    "\n",
    "**sec**<br>\n",
    "$ \\frac{d}{dx}sec(x) = tan(x)sec(x) $\n",
    "\n",
    "**csc** <br>\n",
    "$ \\frac{d}{dx}csc(x) = -csc(x)cot(x) $\n",
    "\n",
    "**cot**<br>\n",
    "$ \\frac{d}{dx}cot(x) = -cot(x)**2 - 1 = -csc(x)^2 $"
   ]
  },
  {
   "cell_type": "code",
   "execution_count": 40,
   "metadata": {
    "collapsed": false,
    "deletable": true,
    "editable": true
   },
   "outputs": [
    {
     "name": "stdout",
     "output_type": "stream",
     "text": [
      "derivative of sin(x) ->\tcos(x)\n",
      "derivative of cos(x) ->\t-sin(x)\n",
      "derivative of -sin(x)->\t-cos(x)\n",
      "derivative of -cos(x)->\tsin(x)\n",
      "\n",
      "derivative of tan(x) ->\ttan(x)**2 + 1\n",
      "derivative of sec(x) ->\ttan(x)*sec(x)\n",
      "derivative of csc(x) ->\t-cot(x)*csc(x)\n",
      "derivative of cot(x) ->\t-cot(x)**2 - 1\n"
     ]
    }
   ],
   "source": [
    "x = symbols('x')\n",
    "print 'derivative of sin(x) ->\\t', diff(sin(x))\n",
    "print 'derivative of cos(x) ->\\t', diff(cos(x))\n",
    "print 'derivative of -sin(x)->\\t', diff(-sin(x))\n",
    "print 'derivative of -cos(x)->\\t', diff(-cos(x))\n",
    "print\n",
    "\n",
    "print 'derivative of tan(x) ->\\t', diff(tan(x)) \n",
    "print 'derivative of sec(x) ->\\t', diff(sec(x))\n",
    "print 'derivative of csc(x) ->\\t', diff(csc(x))\n",
    "print 'derivative of cot(x) ->\\t', diff(cot(x))\n"
   ]
  },
  {
   "cell_type": "markdown",
   "metadata": {
    "deletable": true,
    "editable": true
   },
   "source": [
    "## Trigonometric 다른 방법으로의 증명"
   ]
  },
  {
   "cell_type": "code",
   "execution_count": 41,
   "metadata": {
    "collapsed": false,
    "deletable": true,
    "editable": true
   },
   "outputs": [],
   "source": [
    "from mpmath import *"
   ]
  },
  {
   "cell_type": "markdown",
   "metadata": {
    "deletable": true,
    "editable": true
   },
   "source": [
    "**tan**<br>\n",
    "$ \\frac{d}{dx}tan(x) = tan(x)^2 + 1 = sec(x)^2 $"
   ]
  },
  {
   "cell_type": "code",
   "execution_count": 33,
   "metadata": {
    "collapsed": false,
    "deletable": true,
    "editable": true
   },
   "outputs": [
    {
     "name": "stdout",
     "output_type": "stream",
     "text": [
      "3.42551882081476\n",
      "3.42551882081476\n",
      "3.42551882081476\n"
     ]
    }
   ],
   "source": [
    "print diff(lambda x: tan(x), 1)\n",
    "print sec(1)**2\n",
    "print tan(1)**2 + 1"
   ]
  },
  {
   "cell_type": "markdown",
   "metadata": {
    "deletable": true,
    "editable": true
   },
   "source": [
    "**cot**<br>\n",
    "$ \\frac{d}{dx}cot(x) = -cot(x)**2 - 1 = -csc(x)^2 $"
   ]
  },
  {
   "cell_type": "code",
   "execution_count": 45,
   "metadata": {
    "collapsed": false,
    "deletable": true,
    "editable": true
   },
   "outputs": [
    {
     "name": "stdout",
     "output_type": "stream",
     "text": [
      "-1.41228292743739\n",
      "-1.41228292743739\n",
      "-1.41228292743739\n"
     ]
    }
   ],
   "source": [
    "print diff(lambda x: cot(x), 1)\n",
    "print -cot(1)**2 - 1\n",
    "print -csc(1)**2"
   ]
  },
  {
   "cell_type": "markdown",
   "metadata": {
    "deletable": true,
    "editable": true
   },
   "source": [
    "## Derivative of Absolute Value\n",
    "\n",
    "$$ \\begin{eqnarray}\n",
    "\\frac{d}{dx} |x| &=& \\frac{d}{dx} \\sqrt{x^2} \\\\\n",
    "&=& \\frac{d}{dx}(x^2)^{\\frac{1}{2}} \\\\\n",
    "&=& \\frac{1}{2}(x^2)^{-\\frac{1}{2}} \\cdot 2x \\\\\n",
    "&=& \\frac{x}{\\sqrt{x^2}} & [chain rule] \\\\ \n",
    "&=& \\frac{x}{|x|}\n",
    "\\end{eqnarray}$$\n",
    "\n",
    "이때 $ x \\ne 0 $ 입니다. "
   ]
  },
  {
   "cell_type": "code",
   "execution_count": 12,
   "metadata": {
    "collapsed": false,
    "deletable": true,
    "editable": true
   },
   "outputs": [
    {
     "data": {
      "image/png": "[encoded data removed]",
      "text/latex": [
       "$$\\frac{1}{\\left|{x}\\right|} \\left(\\Re{x} \\frac{d}{d x} \\Re{x} + \\Im{x} \\frac{d}{d x} \\Im{x}\\right)$$"
      ],
      "text/plain": [
       "      d                 d        \n",
       "re(x)⋅──(re(x)) + im(x)⋅──(im(x))\n",
       "      dx                dx       \n",
       "─────────────────────────────────\n",
       "               │x│               "
      ]
     },
     "execution_count": 12,
     "metadata": {},
     "output_type": "execute_result"
    }
   ],
   "source": [
    "w, b, x = symbols('w, b, x')\n",
    "diff(Abs(x))"
   ]
  },
  {
   "cell_type": "markdown",
   "metadata": {
    "deletable": true,
    "editable": true
   },
   "source": [
    "## Derivative of Log"
   ]
  },
  {
   "cell_type": "code",
   "execution_count": 6,
   "metadata": {
    "collapsed": false,
    "deletable": true,
    "editable": true
   },
   "outputs": [
    {
     "data": {
      "image/png": "[encoded data removed]",
      "text/latex": [
       "$$\\frac{1}{x}$$"
      ],
      "text/plain": [
       "1\n",
       "─\n",
       "x"
      ]
     },
     "execution_count": 6,
     "metadata": {},
     "output_type": "execute_result"
    }
   ],
   "source": [
    "x, y = symbols('x, y')\n",
    "diff(log(x))"
   ]
  }
 ],
 "metadata": {
  "kernelspec": {
   "display_name": "Python 2",
   "language": "python",
   "name": "python2"
  },
  "language_info": {
   "codemirror_mode": {
    "name": "ipython",
    "version": 2
   },
   "file_extension": ".py",
   "mimetype": "text/x-python",
   "name": "python",
   "nbconvert_exporter": "python",
   "pygments_lexer": "ipython2",
   "version": "2.7.12"
  }
 },
 "nbformat": 4,
 "nbformat_minor": 1
}
