{
 "cells": [
  {
   "cell_type": "code",
   "execution_count": 1,
   "metadata": {
    "collapsed": true
   },
   "outputs": [],
   "source": [
    "import numpy as np\n",
    "from numpy.linalg import inv, det"
   ]
  },
  {
   "cell_type": "markdown",
   "metadata": {},
   "source": [
    "# Solving Systems of linear equations using Matrix\n",
    "\n",
    "가령 다음과 같은 systems of lienear equations가 있고, x ,y, z의 값을 알아내고자 합니다.\n",
    "\n",
    "$$ \n",
    "\\begin{eqnarray} \\\\ \n",
    "x + y + z = 6 \\\\ \n",
    "2y + 5z = -4 \\\\\n",
    "2x + 5y -z = 27 \\\\\n",
    "\\end{eqnarray} \n",
    "$$\n",
    "\n",
    "공식으로는 다음과 같습니다. \n",
    "\n",
    "### $$ \\textit{AX = B} $$\n",
    "\n",
    "* $ \\textit{A} $는 known matrix\n",
    "* $ \\textit{B} $는 known vector\n",
    "* $ \\textit{X} $는 a vector of unknown variables 로서.. 문제를 풀어서 값을 알아내야하는 것들입니다.\n",
    "\n",
    "<img src=\"images/systems_of_equations01.gif\" class=\"img-responsive img-rounded\">\n",
    "\n",
    "### Matrix Solution\n",
    "\n",
    "inverse of a Matrix 를 사용해서 문제를 해결할 수 있습니다.\n",
    "\n",
    "### $$ \\mathit{X = A^{-1}B} $$\n",
    "\n",
    "<img src=\"images/systems_of_equations02.gif\" class=\"img-responsive img-rounded\">\n",
    "\n",
    "<img src=\"images/systems_of_equations03.gif\" class=\"img-responsive img-rounded\">"
   ]
  },
  {
   "cell_type": "code",
   "execution_count": 3,
   "metadata": {
    "collapsed": false
   },
   "outputs": [
    {
     "name": "stdout",
     "output_type": "stream",
     "text": [
      "[A]\n",
      "[[ 1  1  1]\n",
      " [ 0  2  5]\n",
      " [ 2  5 -1]]\n",
      "\n",
      "[B]\n",
      "[ 6 -4 27]\n"
     ]
    }
   ],
   "source": [
    "A = np.array([[1, 1, 1], [0, 2, 5], [2, 5, -1]])\n",
    "B = np.array([6, -4, 27])\n",
    "\n",
    "print '[A]'\n",
    "print A\n",
    "\n",
    "print\n",
    "print '[B]'\n",
    "print B\n"
   ]
  },
  {
   "cell_type": "code",
   "execution_count": 4,
   "metadata": {
    "collapsed": false
   },
   "outputs": [
    {
     "name": "stdout",
     "output_type": "stream",
     "text": [
      "X의 값은: [ 5.  3. -2.]\n"
     ]
    }
   ],
   "source": [
    "print 'X의 값은:', inv(A).dot(B)"
   ]
  }
 ],
 "metadata": {
  "kernelspec": {
   "display_name": "Python 2",
   "language": "python",
   "name": "python2"
  },
  "language_info": {
   "codemirror_mode": {
    "name": "ipython",
    "version": 2
   },
   "file_extension": ".py",
   "mimetype": "text/x-python",
   "name": "python",
   "nbconvert_exporter": "python",
   "pygments_lexer": "ipython2",
   "version": "2.7.12"
  }
 },
 "nbformat": 4,
 "nbformat_minor": 1
}
