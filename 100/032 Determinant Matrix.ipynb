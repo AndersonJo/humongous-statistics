{
 "cells": [
  {
   "cell_type": "code",
   "execution_count": 1,
   "metadata": {
    "collapsed": true
   },
   "outputs": [],
   "source": [
    "import numpy as np\n",
    "from numpy.linalg import inv, det"
   ]
  },
  {
   "cell_type": "markdown",
   "metadata": {},
   "source": [
    "# Determinant of a Matrix (행렬식)\n",
    "\n",
    "Inverse Matrix를 구하기 위해서는 먼저 determinant 구할줄 알아야 합니다.\n",
    "\n",
    "### Symbol \n",
    "\n",
    "$ | \\mathbf{A} | $는 determinant of the matrix $ \\mathbf{A} $를 가르킵니다.<br>\n",
    "(absolute 기호와 동일)\n",
    "\n",
    "### $$ | \\mathbf{A} | $$\n",
    "\n",
    "### Calculating the Determinant\n",
    "\n",
    "* 반드시 matrix는 square (정사각형.. ) 이어야 합니다.\n",
    "\n",
    "### 2 x 2 Matrix \n",
    "\n",
    "$$ \\textit{A} = \\begin{bmatrix}a & b\\\\c & d\\end{bmatrix} $$\n",
    "\n",
    "$$ |\\textit{A}| = ad - bc $$\n",
    "\n",
    "<img src=\"images/determinant01.gif\" class=\"img-responsive img-rounded\">"
   ]
  },
  {
   "cell_type": "code",
   "execution_count": 2,
   "metadata": {
    "collapsed": false
   },
   "outputs": [
    {
     "name": "stdout",
     "output_type": "stream",
     "text": [
      "Matrix A\n",
      "[[ 4.  6.]\n",
      " [ 3.  8.]]\n",
      "\n",
      "The determinant of a Matrix A: 14.0\n",
      "4*8 - 3*6 = 32 - 18 = 14\n"
     ]
    }
   ],
   "source": [
    "A = np.array([[4, 6], [3, 8]], dtype=np.float32)\n",
    "\n",
    "print 'Matrix A'\n",
    "print A\n",
    "print \n",
    "print 'The determinant of a Matrix A:', det(A)\n",
    "print '4*8 - 3*6 = 32 - 18 = 14'"
   ]
  },
  {
   "cell_type": "markdown",
   "metadata": {},
   "source": [
    "### 3 x 3 Matrix \n",
    "\n",
    "$$ \\textit{A} = \\begin{bmatrix}a & b & c\\\\d & e & f\\\\g & h & i\\end{bmatrix} $$\n",
    "\n",
    "$$ |\\textit{A}| = a(ei - fh) - b(di - fg) + c(dh - eg) $$\n",
    "\n",
    "<img src=\"images/determinant02.gif\" class=\"img-responsive img-rounded\">"
   ]
  },
  {
   "cell_type": "code",
   "execution_count": 3,
   "metadata": {
    "collapsed": false
   },
   "outputs": [
    {
     "name": "stdout",
     "output_type": "stream",
     "text": [
      "Matrix C\n",
      "[[ 6  1  1]\n",
      " [ 4 -2  5]\n",
      " [ 2  8  7]]\n",
      "\n",
      "The determinant of a Matrix C: -306.0\n"
     ]
    }
   ],
   "source": [
    "C = np.array([[6,  1,  1], \n",
    "              [4, -2,  5], \n",
    "              [2,  8,  7]])\n",
    "print 'Matrix C'\n",
    "print C\n",
    "print \n",
    "print 'The determinant of a Matrix C:', det(C)"
   ]
  },
  {
   "cell_type": "markdown",
   "metadata": {},
   "source": [
    "### 4 x 4 Matrix or higher \n",
    "\n",
    "$$ \\textit{A} = \\begin{bmatrix}a & b & c & d\\\\e & f & g & h \\\\i & j & k & l \\end{bmatrix} $$\n",
    "\n",
    "* +a... -b... +c... -d. 이런 패턴이 있음\n",
    "* 첫번째 row의 element를 곱하는데.. 이때 해당 element의 row 그리고 column이 속하지 않은 determinant of the matrix를 구함\n",
    "\n",
    "<img src=\"images/determinant03.gif\" class=\"img-responsive img-rounded\">"
   ]
  },
  {
   "cell_type": "code",
   "execution_count": null,
   "metadata": {
    "collapsed": true
   },
   "outputs": [],
   "source": [
    "np.array([])"
   ]
  }
 ],
 "metadata": {
  "kernelspec": {
   "display_name": "Python 2",
   "language": "python",
   "name": "python2"
  },
  "language_info": {
   "codemirror_mode": {
    "name": "ipython",
    "version": 2
   },
   "file_extension": ".py",
   "mimetype": "text/x-python",
   "name": "python",
   "nbconvert_exporter": "python",
   "pygments_lexer": "ipython2",
   "version": "2.7.12"
  }
 },
 "nbformat": 4,
 "nbformat_minor": 1
}
