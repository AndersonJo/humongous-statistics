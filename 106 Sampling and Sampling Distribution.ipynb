{
 "cells": [
  {
   "cell_type": "code",
   "execution_count": 1,
   "metadata": {},
   "outputs": [
    {
     "name": "stdout",
     "output_type": "stream",
     "text": [
      "Populating the interactive namespace from numpy and matplotlib\n"
     ]
    }
   ],
   "source": [
    "%pylab inline\n",
    "import numpy as np\n",
    "import scipy.stats as stats"
   ]
  },
  {
   "cell_type": "markdown",
   "metadata": {},
   "source": [
    "# Sampling Distribution of the Mean\n",
    "\n",
    "### Central Limit Theorem\n",
    "\n",
    "Central limit theorem에 따르면 sample size $ n $이 커질수록, sample means(표본평균)의 distribution은 normal distribution을 approximate하게 됩니다. <br>\n",
    "재미있는것은 population의 distribution이 뭐든지 상관이 없습니다.<br>\n",
    "일반적으로 $ 30 \\ge n $ 일때 central limit theorem이 유효하다고 봅니다.\n",
    "\n",
    "### Standard Deviation of the Sample Means\n",
    "\n",
    "$$ \\sigma_{\\bar{x}} = \\frac{\\sigma}{\\sqrt{n}} $$\n",
    "\n",
    "* $ \\sigma $ : Standard deviation of the population\n",
    "* $ n $ : sample size\n",
    "\n",
    "### 문제 A\n",
    "\n",
    "30세 남성의 혈압은 normally distributed 되어 있으며, 평균 122mmHg 그리고 STD는 10mmHg를 갖고 있다. \n",
    "\n",
    "> <span style=\"color:#777777\">mmHg는 millimeters of mercury를 뜻함</span>\n",
    "\n",
    "**Q. random sample로 16명이 선택되었다. 샘플의 평균혈압이 125mmHg 보다 높을 확률은?**\n",
    "\n",
    "population이 normal distribution을 따르기 때문에, 어떠한 sample size이든간에.. sample means(표본평균)는 당연히 normal distribution을 따릅니다.\n"
   ]
  },
  {
   "cell_type": "code",
   "execution_count": 2,
   "metadata": {},
   "outputs": [
    {
     "data": {
      "text/plain": [
       "2.5"
      ]
     },
     "execution_count": 2,
     "metadata": {},
     "output_type": "execute_result"
    }
   ],
   "source": [
    "def std_sample_mean(std, n):\n",
    "    return std/np.sqrt(n)\n",
    "\n",
    "std_sample_mean(10, 16)"
   ]
  },
  {
   "cell_type": "code",
   "execution_count": null,
   "metadata": {
    "collapsed": true
   },
   "outputs": [],
   "source": []
  }
 ],
 "metadata": {
  "kernelspec": {
   "display_name": "Python 3",
   "language": "python",
   "name": "python3"
  },
  "language_info": {
   "codemirror_mode": {
    "name": "ipython",
    "version": 3
   },
   "file_extension": ".py",
   "mimetype": "text/x-python",
   "name": "python",
   "nbconvert_exporter": "python",
   "pygments_lexer": "ipython3",
   "version": "3.6.1"
  }
 },
 "nbformat": 4,
 "nbformat_minor": 2
}
