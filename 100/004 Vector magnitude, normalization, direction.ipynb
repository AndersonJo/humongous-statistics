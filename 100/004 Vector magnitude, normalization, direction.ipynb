{
 "cells": [
  {
   "cell_type": "markdown",
   "metadata": {
    "deletable": true,
    "editable": true
   },
   "source": [
    "# Vector magnitude, normalization, direction\n",
    "\n",
    "* [Vector magnitude & normalization](https://www.khanacademy.org/computing/computer-programming/programming-natural-simulations/programming-vectors/a/vector-magnitude-normalization)\n",
    "* [Basic Vector](https://www.mathsisfun.com/algebra/vectors.html)"
   ]
  },
  {
   "cell_type": "code",
   "execution_count": 3,
   "metadata": {
    "collapsed": false,
    "deletable": true,
    "editable": true
   },
   "outputs": [
    {
     "name": "stdout",
     "output_type": "stream",
     "text": [
      "Populating the interactive namespace from numpy and matplotlib\n"
     ]
    }
   ],
   "source": [
    "%pylab inline\n",
    "import numpy as np\n",
    "from numpy import linalg as la"
   ]
  },
  {
   "cell_type": "code",
   "execution_count": 2,
   "metadata": {
    "collapsed": true,
    "deletable": true,
    "editable": true
   },
   "outputs": [],
   "source": [
    "data = np.array([1, 2, 6, 10, 5, 2])"
   ]
  },
  {
   "cell_type": "markdown",
   "metadata": {
    "deletable": true,
    "editable": true
   },
   "source": [
    "## Magnitude\n",
    "\n",
    "어떤 vector의 길이(length)를  magnitude라고 함.\n",
    "\n",
    "$$ \\parallel v \\parallel = \\sqrt{\\sum^n {x^2_1 +  x^2_2 + x^2_3 + ... + x^2_n }}  = \\sqrt{\\sum^n_{i=1} x^2_i }  $$"
   ]
  },
  {
   "cell_type": "markdown",
   "metadata": {
    "deletable": true,
    "editable": true
   },
   "source": [
    "## Normalization (Unit Vector)\n",
    "\n",
    "vector의 방향은 바꾸지 않은채, magnitude를 normalize함. \n",
    "\n",
    "$$ \\hat{v} = \\frac{v}{ \\parallel v \\parallel } $$"
   ]
  },
  {
   "cell_type": "code",
   "execution_count": 3,
   "metadata": {
    "collapsed": false,
    "deletable": true,
    "editable": true
   },
   "outputs": [
    {
     "name": "stdout",
     "output_type": "stream",
     "text": [
      "\n",
      "Anderson Magnitude:\t13.0384048104\n",
      "Numpy Magnitude:\t13.0384048104\n",
      "\n",
      "Normalized: [ 0.0766965   0.153393    0.46017899  0.76696499  0.38348249  0.153393  ]\n"
     ]
    }
   ],
   "source": [
    "def magnitude(data):\n",
    "    return np.sqrt(np.square(data).sum())\n",
    "\n",
    "def normalize(data):\n",
    "    return data/magnitude(data)\n",
    "\n",
    "\n",
    "print \n",
    "print 'Anderson Magnitude:\\t', magnitude(data)\n",
    "print 'Numpy Magnitude:\\t', la.norm(data)\n",
    "print\n",
    "print 'Normalized:', normalize(data)"
   ]
  },
  {
   "cell_type": "markdown",
   "metadata": {
    "deletable": true,
    "editable": true
   },
   "source": [
    "## Direction\n",
    "\n",
    "Direction of a vector는 다음의 공식과 같습니다. \n",
    "\n",
    "$$ tan \\theta = \\frac{y}{x} $$\n",
    "\n",
    "\n",
    "예를 들어서 끝점이 (3, 4)의 direction을 알고자 한다면.. "
   ]
  },
  {
   "cell_type": "code",
   "execution_count": 50,
   "metadata": {
    "collapsed": false,
    "deletable": true,
    "editable": true
   },
   "outputs": [
    {
     "name": "stdout",
     "output_type": "stream",
     "text": [
      "Direction (degree): 54.0\n"
     ]
    },
    {
     "data": {
      "image/png": "[encoded data removed]",
      "text/plain": [
       "<matplotlib.figure.Figure at 0x7f8d152a5490>"
      ]
     },
     "metadata": {},
     "output_type": "display_data"
    }
   ],
   "source": [
    "def direction(x, y):\n",
    "    return y/magnitude((x, y))\n",
    "\n",
    "\n",
    "# Calculate the direction of a vector\n",
    "deg = direction(4., 3.)\n",
    "print 'Direction (degree):',deg * 90\n",
    "\n",
    "# Plotting \n",
    "x = np.array([0, 4])\n",
    "y = np.array([0, 3])\n",
    "\n",
    "grid()\n",
    "xlim(0, 4)\n",
    "ylim(0, 4)\n",
    "plot(x, y)\n",
    "gca().set_aspect('equal', adjustable='box') # 정사각형으로 만듬"
   ]
  },
  {
   "cell_type": "markdown",
   "metadata": {
    "deletable": true,
    "editable": true
   },
   "source": [
    "## Distance \n",
    "\n",
    "vectors끼리의 거리를 구하기 위해서는 Euclidean distance를 사용합니다.\n",
    "\n",
    "* p, q는 vectors 입니다.\n",
    "\n",
    "$$ d(p, q) = \\sqrt{ \\sum^n_{i=1} (p_i - q_i)^2 } $$"
   ]
  },
  {
   "cell_type": "code",
   "execution_count": 5,
   "metadata": {
    "collapsed": false,
    "deletable": true,
    "editable": true
   },
   "outputs": [
    {
     "name": "stdout",
     "output_type": "stream",
     "text": [
      "Distance between p and q: 64.1950153828\n"
     ]
    }
   ],
   "source": [
    "def euclidean(a, b):\n",
    "    return np.sqrt(np.sum((a - b)**2))\n",
    "\n",
    "p = np.array([1 ,2, 3, 4, 5, 6, 7, 8, 9, 10])\n",
    "q = np.array([1, 2, 4, 8, 16, 32, 35, 37, 38, 39])\n",
    "\n",
    "print 'Distance between p and q:', euclidean(p, q)"
   ]
  }
 ],
 "metadata": {
  "kernelspec": {
   "display_name": "Python 2",
   "language": "python",
   "name": "python2"
  },
  "language_info": {
   "codemirror_mode": {
    "name": "ipython",
    "version": 2
   },
   "file_extension": ".py",
   "mimetype": "text/x-python",
   "name": "python",
   "nbconvert_exporter": "python",
   "pygments_lexer": "ipython2",
   "version": "2.7.12"
  }
 },
 "nbformat": 4,
 "nbformat_minor": 1
}
